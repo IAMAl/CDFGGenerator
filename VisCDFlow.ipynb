{
 "cells": [
  {
   "cell_type": "markdown",
   "metadata": {},
   "source": [
    "# Control- and Data- Flow Graph Drawer\n",
    "## References:\n",
    "- akashlevy/LLVM-Dataflow-Examples (https://github.com/akashlevy/LLVM-Dataflow-Examples)\n",
    "- llvmlite/examples/notebooks (https://github.com/numba/llvmlite/blob/master/examples/notebooks/Visualize%20ControlFlow.ipynb)\n",
    "\n",
    "## Prerequisites\n",
    "- llvmlite\n",
    "- graphviz\n",
    "\n",
    "## License\n",
    "- Apache v2.0"
   ]
  },
  {
   "cell_type": "code",
   "execution_count": 2,
   "metadata": {
    "collapsed": true
   },
   "outputs": [],
   "source": [
    "from llvmlite import ir\n",
    "from llvmlite import binding as llvm\n",
    "from llvmlite import llvmpy"
   ]
  },
  {
   "cell_type": "markdown",
   "metadata": {},
   "source": [
    "Build a simple function with a for loop that sum the first N integer, where N is the argument."
   ]
  },
  {
   "cell_type": "code",
   "execution_count": null,
   "metadata": {
    "collapsed": true
   },
   "outputs": [],
   "source": [
    "m = ir.Module()\n",
    "fnty = ir.FunctionType(ir.IntType(32), [ir.IntType(32)])\n",
    "fn = ir.Function(m, fnty, \"count_number\")\n",
    "fn.args[0].name= 'N'\n",
    "builder = ir.IRBuilder(fn.append_basic_block('entry'))\n",
    "out = builder.alloca(ir.IntType(32), name='out')\n",
    "ct = builder.alloca(ir.IntType(32), name='ct')\n",
    "builder.store(out.type.pointee(0), out)\n",
    "builder.store(ct.type.pointee(0), ct)\n",
    "loophead = fn.append_basic_block('loop.header')\n",
    "loopbody = fn.append_basic_block('loop.body')\n",
    "loopend = fn.append_basic_block('loop.end')\n",
    "\n",
    "builder.branch(loophead)\n",
    "builder.position_at_end(loophead)\n",
    "\n",
    "# loop if ct < arg0\n",
    "arg0 = fn.args[0]\n",
    "pred = builder.icmp_signed('<', builder.load(ct), arg0)\n",
    "builder.cbranch(pred, loopbody, loopend)\n",
    "\n",
    "builder.position_at_end(loopbody)\n",
    "\n",
    "# out += ct\n",
    "builder.store(builder.add(builder.load(out), builder.load(ct)), out)\n",
    "# ct += 1\n",
    "builder.store(builder.add(builder.load(ct), ct.type.pointee(1)), ct)\n",
    "# jump to loophead\n",
    "builder.branch(loophead)\n",
    "\n",
    "builder.position_at_end(loopend)\n",
    "\n",
    "builder.ret(builder.load(out))\n",
    "\n",
    "dot = llvm.get_function_cfg(fn)\n",
    "llvm.view_dot_graph(dot)\n",
    "\n",
    "# materialize a LLVM module\n",
    "mod = llvm.parse_assembly(str(m))\n",
    "\n",
    "# create optimizer\n",
    "pm = llvm.create_module_pass_manager()\n",
    "pmb = llvm.create_pass_manager_builder()\n",
    "pmb.opt_level = 3  # -O3\n",
    "pmb.populate(pm)\n",
    "\n",
    "# optimize\n",
    "pm.run(mod)"
   ]
  },
  {
   "cell_type": "markdown",
   "metadata": {},
   "source": [
    "## Visualize CDFG"
   ]
  },
  {
   "cell_type": "code",
   "execution_count": null,
   "metadata": {},
   "outputs": [],
   "source": [
    "class Graph:\n",
    "\n",
    "    def __init__(self, f, out, options):\n",
    "        self.f = f\n",
    "        self.out = out\n",
    "        self.options = options\n",
    "        self.edges = []\n",
    "        self.anon_bblock_cnt = 0\n",
    "        self.anon_bblock_names = {}\n",
    "        self.void_instr_cnt = 0\n",
    "        self.void_instr_names = {}\n",
    "\n",
    "    def write(self, line=\"\"):\n",
    "        self.out.write(line + \"\\n\")\n",
    "\n",
    "    def start_graph(self):\n",
    "        self.write(\"digraph G {\")\n",
    "        self.write(\"compound=true\")\n",
    "        if self.options.dag_control:\n",
    "            self.write(\"rankdir=BT\")\n",
    "        if self.options.block_edges and not self.options.block_edges_helpers:\n",
    "            # If we use cluster edges w/o intervening nodes, we need to bump\n",
    "            # rank (vertical) separation, because otherwise there's very\n",
    "            # little vert. space left to render edges after cutting out\n",
    "            # cluster rectangle\n",
    "            self.write(\"ranksep=1\")\n",
    "        self.write('label=\"Black edges - dataflow, red edges - control flow\"')\n",
    "\n",
    "    def edge(self, fro, to, extra=\"\"):\n",
    "        self.edges.append(\"\\\"%s\\\" -> \\\"%s\\\"%s\" % (fro, to, extra))\n",
    "\n",
    "    def block_name(self, b):\n",
    "        \"\"\"Returns basic block name, i.e. its entry label, or made name\n",
    "        if label if absent.\"\"\"\n",
    "        if b.name:\n",
    "            return b.name\n",
    "        if b in self.anon_bblock_names:\n",
    "            return self.anon_bblock_names[b]\n",
    "        self.anon_bblock_cnt += 1\n",
    "        n = \"unk_block_%d\" % self.anon_bblock_cnt\n",
    "        self.anon_bblock_names[b] = n\n",
    "        return n\n",
    "\n",
    "    def instr_name(self, i):\n",
    "        \"\"\"Returns instruction name, for which result variable name is used.\n",
    "        If result variable name is absent (void statement), make up name.\n",
    "        \"\"\"\n",
    "        if i in self.void_instr_names:\n",
    "            return self.void_instr_names[i]\n",
    "        n = i\n",
    "        if not n:\n",
    "            self.void_instr_cnt += 1\n",
    "            n = \"_%d\" % self.void_instr_cnt\n",
    "            self.void_instr_names[i] = n\n",
    "        return n\n",
    "\n",
    "    def declare_clusters(self):\n",
    "        if self.options.block:\n",
    "            for b in self.f.blocks:\n",
    "                name = self.block_name(b)\n",
    "#                if not self.options.block_edges_helpers:\n",
    "                if 1:\n",
    "                    self.write(\"subgraph \\\"cluster_%s\\\" {\" % name)\n",
    "\n",
    "                if not self.options.block_edges:\n",
    "                    self.write('\\\"%s\\\" [label=\"label: \\\"%s\\\"\"]' % (name, name))\n",
    "                elif self.options.block_edges_helpers:\n",
    "                    self.write('\\\"%s\\\" [shape=point height=0.02 width=0.02 color=red fixedsize=true]' % name)\n",
    "\n",
    "#                    if not self.options.block_edges_helpers:\n",
    "                if 1:\n",
    "                    self.write(\"}\")\n",
    "            self.write()\n",
    "\n",
    "\n",
    "    def render(self):\n",
    "        self.start_graph()\n",
    "        self.declare_clusters()\n",
    "        lab = 1\n",
    "        for b in self.f.blocks:\n",
    "            block_name = self.block_name(b)\n",
    "            self.edges = []\n",
    "            if self.options.block:\n",
    "                self.write(\"subgraph \\\"cluster_%s\\\" {\" % block_name)\n",
    "                self.write(\"label=%s\" % block_name)\n",
    "#            if not self.options.block_edges:\n",
    "#                self.write('\\\"%s\\\" [label=\"label: %s\"]' % (block_name, block_name))\n",
    "#           elif self.options.block_edges_helpers:\n",
    "#               self.write('\\\"%s\\\" [shape=point]' % (b.name))\n",
    "\n",
    "            # Create block entry label node and edge from it to first IR instruction\n",
    "            if not self.options.block_edges or self.options.block_edges_helpers:\n",
    "                attr = \"[color=red]\"\n",
    "                if b.name == \"entry\":\n",
    "                    attr += \"[weight=5]\"\n",
    "                if self.options.block_edges:\n",
    "                    attr += \"[lhead=\\\"cluster_%s\\\"]\" % block_name\n",
    "                if self.options.control:\n",
    "                    for index, i in enumerate(b.instructions):\n",
    "                        if index == 0:\n",
    "                            if self.instr_name(i) == \"\":\n",
    "                                n = self.instr_name(i)\n",
    "                                self.edge(block_name, n, attr)\n",
    "                            else:\n",
    "                                self.edge(block_name, self.instr_name(i), attr)\n",
    "\n",
    "            if self.options.dag_control:\n",
    "                last_void_inst = block_name\n",
    "                for i in b.instructions:\n",
    "                    if i.type == None:#:\n",
    "                        n = self.instr_name(i)\n",
    "                        self.edge(n, last_void_inst, \"[color=blue dir=back]\")\n",
    "                        last_void_inst = n\n",
    "\n",
    "            last_inst_name = None\n",
    "            for i in b.instructions:\n",
    "                n = self.instr_name(i)\n",
    "                self.write('\\\"%s\\\" [label=\"%s\"]' % (n, i))\n",
    "                if self.options.control:\n",
    "                    if last_inst_name:\n",
    "                        self.edge(last_inst_name, n, \"[color=red weight=2]\")\n",
    "                else:\n",
    "                    if self.instr_name(i) == \"br\" and len(i.operands) == 1:\n",
    "                        self.edge(last_inst_name, n, \"[color=red]\")\n",
    "\n",
    "                for a in i.operands:\n",
    "                        if not a.name:\n",
    "                            arg_val = a\n",
    "                        else:\n",
    "                            arg_val = a.name\n",
    "                        if self.instr_name(i) == \"br\" and type(a) is BasicBlock:\n",
    "                            if self.options.block_edges and not self.options.block_edges_helpers:\n",
    "                                arg_val = a.instructions[0].name\n",
    "                            attrs = \"[color=red]\"\n",
    "                            if self.options.block_edges:\n",
    "                                attrs += \"[color=red][lhead=\\\"cluster_%s\\\"][ltail=\\\"cluster_%s\\\"][weight=5]\" % (a.name, block_name)\n",
    "                                if self.options.block_edges_helpers:\n",
    "                                    attrs += \"[arrowhead=none]\"\n",
    "                            self.edge(n, arg_val, attrs)\n",
    "                        else:\n",
    "                            self.edge(arg_val, n)\n",
    "                last_inst_name = n\n",
    "            if self.options.block:\n",
    "                self.write(\"}\")\n",
    "            for e in self.edges:\n",
    "                self.write(e)\n",
    "            self.write()\n",
    "        self.write(\"}\")"
   ]
  },
  {
   "cell_type": "markdown",
   "metadata": {},
   "source": [
    "## Draw Function-level CFG"
   ]
  },
  {
   "cell_type": "code",
   "execution_count": null,
   "metadata": {
    "collapsed": false
   },
   "outputs": [],
   "source": [
    "dot = llvm.get_function_cfg(fn)\n",
    "llvm.view_dot_graph(dot)"
   ]
  },
  {
   "cell_type": "markdown",
   "metadata": {},
   "source": [
    "## Preparation to Visualization"
   ]
  },
  {
   "cell_type": "code",
   "execution_count": null,
   "metadata": {},
   "outputs": [],
   "source": [
    "# materialize a LLVM module\n",
    "mod = llvm.parse_assembly(str(m))"
   ]
  },
  {
   "cell_type": "code",
   "execution_count": null,
   "metadata": {},
   "outputs": [],
   "source": [
    "llvm.initialize()\n",
    "llvm.initialize_native_target()\n",
    "llvm.initialize_native_asmprinter()\n",
    "\n",
    "# materialize a LLVM module\n",
    "mod = llvm.parse_assembly(str(m))"
   ]
  },
  {
   "cell_type": "code",
   "execution_count": null,
   "metadata": {
    "collapsed": false
   },
   "outputs": [],
   "source": [
    "# create optimizer\n",
    "pm = llvm.create_module_pass_manager()\n",
    "pmb = llvm.create_pass_manager_builder()\n",
    "pmb.opt_level = 3  # -O3\n",
    "pmb.populate(pm)\n",
    "\n",
    "# optimize\n",
    "pm.run(mod)"
   ]
  },
  {
   "cell_type": "markdown",
   "metadata": {},
   "source": [
    "## Options for Visualization"
   ]
  },
  {
   "cell_type": "code",
   "execution_count": null,
   "metadata": {},
   "outputs": [],
   "source": [
    "class options:\n",
    "  block=False\n",
    "  control=True\n",
    "  dag_control=True\n",
    "  block_edges=False\n",
    "  block_edges_helpers=False"
   ]
  },
  {
   "cell_type": "markdown",
   "metadata": {},
   "source": [
    "## Dot file Generation"
   ]
  },
  {
   "cell_type": "code",
   "execution_count": null,
   "metadata": {},
   "outputs": [],
   "source": [
    "if not options.control and not options.dag_control:\n",
    "    options.control = True\n",
    "    \n",
    "for f in mod.functions:\n",
    "    if not f.is_declaration:\n",
    "        print(\"Writing %s.dot\" % f.name)\n",
    "        with open(f.name + \".dot\", \"w\") as out:\n",
    "            g = Graph(f, out, options)\n",
    "            g.render()\n"
   ]
  },
  {
   "cell_type": "code",
   "execution_count": null,
   "metadata": {},
   "outputs": [],
   "source": [
    "!dot -Tpdf count_number.dot -o outfile.pdf"
   ]
  },
  {
   "cell_type": "code",
   "execution_count": null,
   "metadata": {},
   "outputs": [],
   "source": [
    "import pydotplus\n",
    "from IPython.display import Image"
   ]
  },
  {
   "cell_type": "code",
   "execution_count": null,
   "metadata": {},
   "outputs": [],
   "source": [
    "graph = pydotplus.graphviz.graph_from_dot_file(\"count_number.dot\")\n",
    "graph.write_png(\"count_number.png\")\n",
    "Image(graph.create_png())"
   ]
  },
  {
   "cell_type": "code",
   "execution_count": null,
   "metadata": {
    "collapsed": false
   },
   "outputs": [],
   "source": [
    "dot = llvm.get_function_cfg(mod.get_function(fn.name))\n",
    "llvm.view_dot_graph(dot)"
   ]
  }
 ],
 "metadata": {
  "kernelspec": {
   "display_name": "Python 3.8.2 64-bit",
   "metadata": {
    "interpreter": {
     "hash": "31f2aee4e71d21fbe5cf8b01ff0e069b9275f58929596ceb00d14d90e3e16cd6"
    }
   },
   "name": "python3"
  },
  "language_info": {
   "codemirror_mode": {
    "name": "ipython",
    "version": 3
   },
   "file_extension": ".py",
   "mimetype": "text/x-python",
   "name": "python",
   "nbconvert_exporter": "python",
   "pygments_lexer": "ipython3",
   "version": "3.8.2"
  }
 },
 "nbformat": 4,
 "nbformat_minor": 0
}